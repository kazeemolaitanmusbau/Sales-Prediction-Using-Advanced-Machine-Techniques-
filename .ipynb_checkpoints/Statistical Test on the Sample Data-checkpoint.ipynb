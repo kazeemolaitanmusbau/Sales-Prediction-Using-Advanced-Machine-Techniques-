{
 "cells": [
  {
   "cell_type": "code",
   "execution_count": 13,
   "id": "bd4bd97a",
   "metadata": {},
   "outputs": [],
   "source": [
    "import numpy as np\n",
    "import pandas as pd\n",
    "import matplotlib.pyplot as plt\n",
    "import seaborn as sns\n",
    "from scipy.stats import ttest_ind, norm\n"
   ]
  },
  {
   "cell_type": "code",
   "execution_count": 2,
   "id": "406f47d5",
   "metadata": {},
   "outputs": [],
   "source": [
    "# loading the sample data into dataframe\n",
    "df=pd.read_csv(\"merge_data.csv\", low_memory=False)"
   ]
  },
  {
   "cell_type": "code",
   "execution_count": 3,
   "id": "d0746358",
   "metadata": {
    "scrolled": true
   },
   "outputs": [
    {
     "data": {
      "text/html": [
       "<div>\n",
       "<style scoped>\n",
       "    .dataframe tbody tr th:only-of-type {\n",
       "        vertical-align: middle;\n",
       "    }\n",
       "\n",
       "    .dataframe tbody tr th {\n",
       "        vertical-align: top;\n",
       "    }\n",
       "\n",
       "    .dataframe thead th {\n",
       "        text-align: right;\n",
       "    }\n",
       "</style>\n",
       "<table border=\"1\" class=\"dataframe\">\n",
       "  <thead>\n",
       "    <tr style=\"text-align: right;\">\n",
       "      <th></th>\n",
       "      <th>Store</th>\n",
       "      <th>DayOfWeek</th>\n",
       "      <th>Date</th>\n",
       "      <th>Sales</th>\n",
       "      <th>Customers</th>\n",
       "      <th>Open</th>\n",
       "      <th>Promo</th>\n",
       "      <th>StateHoliday</th>\n",
       "      <th>SchoolHoliday</th>\n",
       "      <th>StoreType</th>\n",
       "      <th>Assortment</th>\n",
       "      <th>CompetitionDistance</th>\n",
       "      <th>CompetitionOpenSinceMonth</th>\n",
       "      <th>CompetitionOpenSinceYear</th>\n",
       "      <th>Promo2</th>\n",
       "      <th>Promo2SinceWeek</th>\n",
       "      <th>Promo2SinceYear</th>\n",
       "      <th>PromoInterval</th>\n",
       "    </tr>\n",
       "  </thead>\n",
       "  <tbody>\n",
       "    <tr>\n",
       "      <th>0</th>\n",
       "      <td>1</td>\n",
       "      <td>5</td>\n",
       "      <td>31-07-2015</td>\n",
       "      <td>5263</td>\n",
       "      <td>555</td>\n",
       "      <td>1</td>\n",
       "      <td>1</td>\n",
       "      <td>0</td>\n",
       "      <td>1</td>\n",
       "      <td>c</td>\n",
       "      <td>a</td>\n",
       "      <td>1270.0</td>\n",
       "      <td>9.0</td>\n",
       "      <td>2008.0</td>\n",
       "      <td>0</td>\n",
       "      <td>0.0</td>\n",
       "      <td>0.0</td>\n",
       "      <td>0</td>\n",
       "    </tr>\n",
       "    <tr>\n",
       "      <th>1</th>\n",
       "      <td>2</td>\n",
       "      <td>5</td>\n",
       "      <td>31-07-2015</td>\n",
       "      <td>6064</td>\n",
       "      <td>625</td>\n",
       "      <td>1</td>\n",
       "      <td>1</td>\n",
       "      <td>0</td>\n",
       "      <td>1</td>\n",
       "      <td>a</td>\n",
       "      <td>a</td>\n",
       "      <td>570.0</td>\n",
       "      <td>11.0</td>\n",
       "      <td>2007.0</td>\n",
       "      <td>1</td>\n",
       "      <td>13.0</td>\n",
       "      <td>2010.0</td>\n",
       "      <td>Jan,Apr,Jul,Oct</td>\n",
       "    </tr>\n",
       "    <tr>\n",
       "      <th>2</th>\n",
       "      <td>3</td>\n",
       "      <td>5</td>\n",
       "      <td>31-07-2015</td>\n",
       "      <td>8314</td>\n",
       "      <td>821</td>\n",
       "      <td>1</td>\n",
       "      <td>1</td>\n",
       "      <td>0</td>\n",
       "      <td>1</td>\n",
       "      <td>a</td>\n",
       "      <td>a</td>\n",
       "      <td>14130.0</td>\n",
       "      <td>12.0</td>\n",
       "      <td>2006.0</td>\n",
       "      <td>1</td>\n",
       "      <td>14.0</td>\n",
       "      <td>2011.0</td>\n",
       "      <td>Jan,Apr,Jul,Oct</td>\n",
       "    </tr>\n",
       "    <tr>\n",
       "      <th>3</th>\n",
       "      <td>4</td>\n",
       "      <td>5</td>\n",
       "      <td>31-07-2015</td>\n",
       "      <td>13995</td>\n",
       "      <td>1498</td>\n",
       "      <td>1</td>\n",
       "      <td>1</td>\n",
       "      <td>0</td>\n",
       "      <td>1</td>\n",
       "      <td>c</td>\n",
       "      <td>c</td>\n",
       "      <td>620.0</td>\n",
       "      <td>9.0</td>\n",
       "      <td>2009.0</td>\n",
       "      <td>0</td>\n",
       "      <td>0.0</td>\n",
       "      <td>0.0</td>\n",
       "      <td>0</td>\n",
       "    </tr>\n",
       "    <tr>\n",
       "      <th>4</th>\n",
       "      <td>5</td>\n",
       "      <td>5</td>\n",
       "      <td>31-07-2015</td>\n",
       "      <td>4822</td>\n",
       "      <td>559</td>\n",
       "      <td>1</td>\n",
       "      <td>1</td>\n",
       "      <td>0</td>\n",
       "      <td>1</td>\n",
       "      <td>a</td>\n",
       "      <td>a</td>\n",
       "      <td>29910.0</td>\n",
       "      <td>4.0</td>\n",
       "      <td>2015.0</td>\n",
       "      <td>0</td>\n",
       "      <td>0.0</td>\n",
       "      <td>0.0</td>\n",
       "      <td>0</td>\n",
       "    </tr>\n",
       "  </tbody>\n",
       "</table>\n",
       "</div>"
      ],
      "text/plain": [
       "   Store  DayOfWeek        Date  Sales  Customers  Open  Promo StateHoliday  \\\n",
       "0      1          5  31-07-2015   5263        555     1      1            0   \n",
       "1      2          5  31-07-2015   6064        625     1      1            0   \n",
       "2      3          5  31-07-2015   8314        821     1      1            0   \n",
       "3      4          5  31-07-2015  13995       1498     1      1            0   \n",
       "4      5          5  31-07-2015   4822        559     1      1            0   \n",
       "\n",
       "   SchoolHoliday StoreType Assortment  CompetitionDistance  \\\n",
       "0              1         c          a               1270.0   \n",
       "1              1         a          a                570.0   \n",
       "2              1         a          a              14130.0   \n",
       "3              1         c          c                620.0   \n",
       "4              1         a          a              29910.0   \n",
       "\n",
       "   CompetitionOpenSinceMonth  CompetitionOpenSinceYear  Promo2  \\\n",
       "0                        9.0                    2008.0       0   \n",
       "1                       11.0                    2007.0       1   \n",
       "2                       12.0                    2006.0       1   \n",
       "3                        9.0                    2009.0       0   \n",
       "4                        4.0                    2015.0       0   \n",
       "\n",
       "   Promo2SinceWeek  Promo2SinceYear    PromoInterval  \n",
       "0              0.0              0.0                0  \n",
       "1             13.0           2010.0  Jan,Apr,Jul,Oct  \n",
       "2             14.0           2011.0  Jan,Apr,Jul,Oct  \n",
       "3              0.0              0.0                0  \n",
       "4              0.0              0.0                0  "
      ]
     },
     "execution_count": 3,
     "metadata": {},
     "output_type": "execute_result"
    }
   ],
   "source": [
    "# checking the first five rows of the dataframe\n",
    "df.head()"
   ]
  },
  {
   "cell_type": "code",
   "execution_count": 4,
   "id": "fde590a5",
   "metadata": {},
   "outputs": [
    {
     "data": {
      "text/plain": [
       "Index(['Store', 'DayOfWeek', 'Date', 'Sales', 'Customers', 'Open', 'Promo',\n",
       "       'StateHoliday', 'SchoolHoliday', 'StoreType', 'Assortment',\n",
       "       'CompetitionDistance', 'CompetitionOpenSinceMonth',\n",
       "       'CompetitionOpenSinceYear', 'Promo2', 'Promo2SinceWeek',\n",
       "       'Promo2SinceYear', 'PromoInterval'],\n",
       "      dtype='object')"
      ]
     },
     "execution_count": 4,
     "metadata": {},
     "output_type": "execute_result"
    }
   ],
   "source": [
    "# display the columns of the dataframe\n",
    "df.columns"
   ]
  },
  {
   "cell_type": "code",
   "execution_count": 5,
   "id": "51823d79",
   "metadata": {},
   "outputs": [
    {
     "data": {
      "text/plain": [
       "<AxesSubplot:ylabel='Density'>"
      ]
     },
     "execution_count": 5,
     "metadata": {},
     "output_type": "execute_result"
    },
    {
     "data": {
      "image/png": "[encoded data removed]",
      "text/plain": [
       "<Figure size 640x480 with 1 Axes>"
      ]
     },
     "metadata": {},
     "output_type": "display_data"
    }
   ],
   "source": [
    "df[\"Sales\"].plot(kind=\"kde\")"
   ]
  },
  {
   "cell_type": "markdown",
   "id": "8bdaa6c5",
   "metadata": {},
   "source": [
    "# Confidence Interval For Sales"
   ]
  },
  {
   "cell_type": "code",
   "execution_count": 6,
   "id": "a0b2a2d1",
   "metadata": {},
   "outputs": [],
   "source": [
    "# Find the confidence interval of the Sales variable\n",
    "num_sample = len(df.Sales) # Number of samples\n",
    "sample_mean = df[\"Sales\"].mean()\n",
    "sample_std =df[\"Sales\"].std()\n",
    "degree_of_freedom = num_sample - 1\n",
    "standard_error = sample_std/ (np.sqrt(num_sample))"
   ]
  },
  {
   "cell_type": "code",
   "execution_count": 7,
   "id": "4f12e654",
   "metadata": {},
   "outputs": [],
   "source": [
    "confidence_level = 0.95\n",
    "confidence_interval=norm.interval(confidence_level, loc=sample_mean, scale=standard_error)"
   ]
  },
  {
   "cell_type": "code",
   "execution_count": 8,
   "id": "88cf7e1d",
   "metadata": {},
   "outputs": [
    {
     "name": "stdout",
     "output_type": "stream",
     "text": [
      "Sample Mean: 5773.82\n",
      "95% Confidence Interval for the Mean: [5766.34, 5781.30]\n"
     ]
    }
   ],
   "source": [
    "print(f\"Sample Mean: {sample_mean:.2f}\")\n",
    "print(f\"95% Confidence Interval for the Mean: [{confidence_interval[0]:.2f}, {confidence_interval[1]:.2f}]\")\n"
   ]
  },
  {
   "cell_type": "code",
   "execution_count": 9,
   "id": "40f140cc",
   "metadata": {},
   "outputs": [
    {
     "data": {
      "image/png": "[encoded data removed]",
      "text/plain": [
       "<Figure size 1000x600 with 1 Axes>"
      ]
     },
     "metadata": {},
     "output_type": "display_data"
    }
   ],
   "source": [
    "fig, ax = plt.subplots(figsize=(10, 6))\n",
    "\n",
    "# Plot the sample mean\n",
    "ax.axhline(y=sample_mean, color='red', linestyle='--', label=f'Sample Mean: {sample_mean:.2f}')\n",
    "\n",
    "# Plot the confidence interval for the mean\n",
    "ax.axhline(y=confidence_interval[0], color='green', linestyle='--', label=f'95% CI Lower Bound: {confidence_interval[0]:.2f}')\n",
    "ax.axhline(y=confidence_interval[1], color='green', linestyle='--', label=f'95% CI Upper Bound: {confidence_interval[1]:.2f}')\n",
    "\n",
    "# Adding standard deviation lines\n",
    "ax.axhline(y=sample_mean - sample_std, color='orange', linestyle='--', label=f'-1 SD: {sample_mean - sample_std:.2f}')\n",
    "ax.axhline(y=sample_mean + sample_std, color='orange', linestyle='--', label=f'+1 SD: {sample_mean + sample_std:.2f}')\n",
    "ax.axhline(y=sample_mean - 2*sample_std, color='purple', linestyle='--', label=f'-2 SD: {sample_mean - 2*sample_std:.2f}')\n",
    "ax.axhline(y=sample_mean + 2*sample_std, color='purple', linestyle='--', label=f'+2 SD: {sample_mean + 2*sample_std:.2f}')\n",
    "\n",
    "# Labeling the plot\n",
    "ax.set_title('Sales and Confidence Interval for the Mean')\n",
    "ax.set_xlabel('sales Index')\n",
    "ax.set_ylabel('Price')\n",
    "ax.legend()\n",
    "plt.show()"
   ]
  },
  {
   "cell_type": "markdown",
   "id": "4993cf99",
   "metadata": {},
   "source": [
    "### Interpretation\n",
    "\n",
    "- *Confidence Interval for the Mean*: The green lines indicate the 95% confidence interval for the mean, suggesting that we are 95% confident that the true mean Sales lies between these bounds.\n",
    "- *Standard Deviation*: The orange lines indicate one standard deviation from the mean, and the purple lines indicate two standard deviations from the mean. This shows where most individual Sales are likely to fall.\n",
    "\n",
    "### Summary\n",
    "\n",
    "- The confidence interval for the mean (e.g., [5766.34, 5781.30]) gives you an estimated range for the *average* Sales.\n",
    "- Individual scores can vary and are not constrained by this interval. However, if the data is normally distributed, most individual scores (approximately 95%) will fall within two standard deviations of the mean."
   ]
  },
  {
   "cell_type": "code",
   "execution_count": null,
   "id": "a0ff42cc",
   "metadata": {},
   "outputs": [],
   "source": []
  },
  {
   "cell_type": "code",
   "execution_count": null,
   "id": "cee22bfe",
   "metadata": {},
   "outputs": [],
   "source": []
  },
  {
   "cell_type": "markdown",
   "id": "fcd294f1",
   "metadata": {},
   "source": [
    "# Central Theorem Limit\n",
    "the sales variable is not normally distributed, using ctl to make it, and find the confidence interval of the sample generated"
   ]
  },
  {
   "cell_type": "code",
   "execution_count": 8,
   "id": "a8f6882c",
   "metadata": {},
   "outputs": [],
   "source": [
    "# # Parameters for CLT\n",
    "# sample_size = 100   # Size of each sample\n",
    "# # Generate sample means from original sales data\n",
    "# sample_means = []\n",
    "# for _ in range(num_sample):\n",
    "#     sample = np.random.choice(df['Sales'], size=sample_size, replace=False)\n",
    "#     sample_mean = np.mean(sample)\n",
    "#     sample_means.append(sample_mean)"
   ]
  },
  {
   "cell_type": "code",
   "execution_count": null,
   "id": "55155bf9",
   "metadata": {},
   "outputs": [],
   "source": []
  },
  {
   "cell_type": "code",
   "execution_count": null,
   "id": "0f681669",
   "metadata": {},
   "outputs": [],
   "source": []
  },
  {
   "cell_type": "markdown",
   "id": "b1a68f55",
   "metadata": {},
   "source": [
    "# Two Sample t test\n",
    "- Ho>>>> No difference in Average Sales between the Promo and No_Promo\n",
    "- Ha>>>> There exist a difference in Average Sales between the Promo and No_Promo "
   ]
  },
  {
   "cell_type": "code",
   "execution_count": 11,
   "id": "8e959226",
   "metadata": {},
   "outputs": [
    {
     "name": "stdout",
     "output_type": "stream",
     "text": [
      "there is significant difference between the average sales of promo and no_promo\n",
      "Hence, we Reject the null hypothesis\n"
     ]
    }
   ],
   "source": [
    "promo=df[df[\"Promo\"]==1][\"Sales\"]\n",
    "no_promo=df[df[\"Promo\"]==0][\"Sales\"]\n",
    "t_stat, p_value=ttest_ind(promo,no_promo )\n",
    "alpha = 0.05\n",
    "if p_value<alpha:\n",
    "    print(\"there is significant difference between the average sales of promo and no_promo\")\n",
    "    print(\"Hence, we Reject the null hypothesis\")\n",
    "else:\n",
    "    print(\"there is No significant difference between the average sales of promo and no_promo\")    \n",
    "    print(\"Hence, we fail Reject the null hypothesis\")"
   ]
  },
  {
   "cell_type": "markdown",
   "id": "c2d6f324",
   "metadata": {},
   "source": [
    "From the above test, we Reject the null hypothesis that stated that No difference in average Sales of when there is promo and when there is no promo. This shows enough evidence that the variation is sales can be cause by Promo and No Promo"
   ]
  },
  {
   "cell_type": "code",
   "execution_count": 14,
   "id": "a71359bc",
   "metadata": {},
   "outputs": [
    {
     "name": "stdout",
     "output_type": "stream",
     "text": [
      "there is significant difference between the average sales of promo and no_promo\n",
      "Hence, we Reject the null hypothesis\n"
     ]
    }
   ],
   "source": [
    "promo=df[df[\"Open\"]==1][\"Sales\"]\n",
    "no_promo=df[df[\"Open\"]==0][\"Sales\"]\n",
    "t_stat, p_value=ttest_ind(promo,no_promo )\n",
    "alpha = 0.05\n",
    "if p_value<alpha:\n",
    "    print(\"there is significant difference between the average sales of promo and no_promo\")\n",
    "    print(\"Hence, we Reject the null hypothesis\")\n",
    "else:\n",
    "    print(\"there is No significant difference between the average sales of promo and no_promo\")    \n",
    "    print(\"Hence, we fail Reject the null hypothesis\")\n",
    "    "
   ]
  },
  {
   "cell_type": "code",
   "execution_count": 15,
   "id": "6032f9c2",
   "metadata": {},
   "outputs": [
    {
     "name": "stdout",
     "output_type": "stream",
     "text": [
      "there is significant difference between the average sales of promo and no_promo\n",
      "Hence, we Reject the null hypothesis\n"
     ]
    }
   ],
   "source": [
    "promo=df[df[\"SchoolHoliday\"]==1][\"Sales\"]\n",
    "no_promo=df[df[\"SchoolHoliday\"]==0][\"Sales\"]\n",
    "t_stat, p_value=ttest_ind(promo,no_promo )\n",
    "alpha = 0.05\n",
    "if p_value<alpha:\n",
    "    print(\"there is significant difference between the average sales of promo and no_promo\")\n",
    "    print(\"Hence, we Reject the null hypothesis\")\n",
    "else:\n",
    "    print(\"there is No significant difference between the average sales of promo and no_promo\")    \n",
    "    print(\"Hence, we fail Reject the null hypothesis\")"
   ]
  },
  {
   "cell_type": "code",
   "execution_count": 16,
   "id": "d109d01b",
   "metadata": {},
   "outputs": [
    {
     "name": "stdout",
     "output_type": "stream",
     "text": [
      "there is significant difference between the average sales of promo and no_promo\n",
      "Hence, we Reject the null hypothesis\n"
     ]
    }
   ],
   "source": [
    "promo=df[df[\"Promo2\"]==1][\"Sales\"]\n",
    "no_promo=df[df[\"Promo2\"]==0][\"Sales\"]\n",
    "t_stat, p_value=ttest_ind(promo,no_promo )\n",
    "alpha = 0.05\n",
    "if p_value<alpha:\n",
    "    print(\"there is significant difference between the average sales of promo and no_promo\")\n",
    "    print(\"Hence, we Reject the null hypothesis\")\n",
    "else:\n",
    "    print(\"there is No significant difference between the average sales of promo and no_promo\")    \n",
    "    print(\"Hence, we fail Reject the null hypothesis\")\n",
    "    "
   ]
  },
  {
   "cell_type": "code",
   "execution_count": null,
   "id": "2972011e",
   "metadata": {},
   "outputs": [],
   "source": []
  },
  {
   "cell_type": "code",
   "execution_count": null,
   "id": "cbe57fe8",
   "metadata": {},
   "outputs": [],
   "source": []
  },
  {
   "cell_type": "code",
   "execution_count": null,
   "id": "c68b2082",
   "metadata": {},
   "outputs": [],
   "source": []
  },
  {
   "cell_type": "code",
   "execution_count": null,
   "id": "253e0f83",
   "metadata": {},
   "outputs": [],
   "source": []
  },
  {
   "cell_type": "code",
   "execution_count": null,
   "id": "fdb0a772",
   "metadata": {},
   "outputs": [],
   "source": []
  }
 ],
 "metadata": {
  "kernelspec": {
   "display_name": "Python 3 (ipykernel)",
   "language": "python",
   "name": "python3"
  },
  "language_info": {
   "codemirror_mode": {
    "name": "ipython",
    "version": 3
   },
   "file_extension": ".py",
   "mimetype": "text/x-python",
   "name": "python",
   "nbconvert_exporter": "python",
   "pygments_lexer": "ipython3",
   "version": "3.9.13"
  }
 },
 "nbformat": 4,
 "nbformat_minor": 5
}
